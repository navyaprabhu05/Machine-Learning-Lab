{
  "nbformat": 4,
  "nbformat_minor": 0,
  "metadata": {
    "colab": {
      "provenance": []
    },
    "kernelspec": {
      "name": "python3",
      "display_name": "Python 3"
    },
    "language_info": {
      "name": "python"
    }
  },
  "cells": [
    {
      "cell_type": "code",
      "execution_count": null,
      "metadata": {
        "id": "7kCLSx-HGRJ-"
      },
      "outputs": [],
      "source": [
        "import numpy as np\n",
        "import pandas as pd"
      ]
    },
    {
      "cell_type": "code",
      "source": [
        "df = pd.read_csv(\"logical_gate.csv\")\n",
        "print(df.head())\n"
      ],
      "metadata": {
        "colab": {
          "base_uri": "https://localhost:8080/"
        },
        "id": "IxbkJFOwGTiw",
        "outputId": "3e53ba25-cad3-4671-a9f6-03141e9222f6"
      },
      "execution_count": null,
      "outputs": [
        {
          "output_type": "stream",
          "name": "stdout",
          "text": [
            "   Value_A  Value_B AND_Gate  OR_Gate NAND_Gate NOR_Gate\n",
            "0        0        0     zero     zero       one      one\n",
            "1        1        1      one      one      zero     zero\n",
            "2        0        2  invalid  invalid   invalid  invalid\n",
            "3        1        1      one      one      zero     zero\n",
            "4        1        0     zero      one       one     zero\n"
          ]
        }
      ]
    },
    {
      "cell_type": "code",
      "source": [
        "def mp_neuron(x, w, theta):\n",
        "    total = np.dot(x, w)\n",
        "    return 1 if total >= theta else 0\n"
      ],
      "metadata": {
        "id": "eCrVLdcqGmaQ"
      },
      "execution_count": null,
      "outputs": []
    },
    {
      "cell_type": "code",
      "source": [
        "def AND_gate(x1, x2):\n",
        "    return mp_neuron([x1, x2], w=[1, 1], theta=2)\n",
        "\n",
        "def OR_gate(x1, x2):\n",
        "    return mp_neuron([x1, x2], w=[1, 1], theta=1)\n",
        "\n",
        "def NOT_gate(x):\n",
        "    return mp_neuron([x], w=[-1], theta=0)\n"
      ],
      "metadata": {
        "id": "R-wgBVnjGpev"
      },
      "execution_count": null,
      "outputs": []
    },
    {
      "cell_type": "code",
      "source": [
        "def NAND_gate(x1, x2):\n",
        "    # NAND is NOT(AND)\n",
        "    return NOT_gate(AND_gate(x1, x2))\n",
        "\n",
        "def NOR_gate(x1, x2):\n",
        "    # NOR is NOT(OR)\n",
        "    return NOT_gate(OR_gate(x1, x2))\n"
      ],
      "metadata": {
        "id": "In9Sa18FGuTm"
      },
      "execution_count": null,
      "outputs": []
    },
    {
      "cell_type": "code",
      "source": [
        "def XOR_gate(x1, x2):\n",
        "    # XOR = (A OR B) AND (NOT (A AND B))\n",
        "    or_out = OR_gate(x1, x2)\n",
        "    and_out = AND_gate(x1, x2)\n",
        "    not_and = NOT_gate(and_out)\n",
        "    return AND_gate(or_out, not_and)\n"
      ],
      "metadata": {
        "id": "LzS7GNxQGy4X"
      },
      "execution_count": null,
      "outputs": []
    },
    {
      "cell_type": "code",
      "source": [
        "for idx, row in df.iterrows():\n",
        "    a = row[\"Value_A\"]\n",
        "    b = row[\"Value_B\"]\n",
        "\n",
        "    and_pred = AND_gate(a, b)\n",
        "    or_pred = OR_gate(a, b)\n",
        "    nand_pred = NAND_gate(a, b)\n",
        "    nor_pred = NOR_gate(a, b)\n",
        "    xor_pred = XOR_gate(a, b)\n",
        "\n",
        "    and_true = row[\"AND\"] if \"AND\" in df.columns else \"N/A\"\n",
        "    or_true  = row[\"OR\"] if \"OR\" in df.columns else \"N/A\"\n",
        "    nand_true = row[\"NAND\"] if \"NAND\" in df.columns else \"N/A\"\n",
        "    nor_true  = row[\"NOR\"] if \"NOR\" in df.columns else \"N/A\"\n",
        "\n",
        "    print(f\"A={a}, B={b} | \"\n",
        "          f\"AND: pred={and_pred}, true={and_true} | \"\n",
        "          f\"OR: pred={or_pred}, true={or_true} | \"\n",
        "          f\"NAND: pred={nand_pred}, true={nand_true} | \"\n",
        "          f\"NOR: pred={nor_pred}, true={nor_true} | \"\n",
        "          f\"XOR: pred={xor_pred}\")\n"
      ],
      "metadata": {
        "colab": {
          "base_uri": "https://localhost:8080/"
        },
        "id": "Ld5PB9NNG-gP",
        "outputId": "6fc27422-9ee3-4bb2-8fe5-f6f7f7e9b90e"
      },
      "execution_count": null,
      "outputs": [
        {
          "output_type": "stream",
          "name": "stdout",
          "text": [
            "A=0, B=0 | AND: pred=0, true=N/A | OR: pred=0, true=N/A | NAND: pred=1, true=N/A | NOR: pred=1, true=N/A | XOR: pred=0\n",
            "A=1, B=1 | AND: pred=1, true=N/A | OR: pred=1, true=N/A | NAND: pred=0, true=N/A | NOR: pred=0, true=N/A | XOR: pred=0\n",
            "A=0, B=2 | AND: pred=1, true=N/A | OR: pred=1, true=N/A | NAND: pred=0, true=N/A | NOR: pred=0, true=N/A | XOR: pred=0\n",
            "A=1, B=1 | AND: pred=1, true=N/A | OR: pred=1, true=N/A | NAND: pred=0, true=N/A | NOR: pred=0, true=N/A | XOR: pred=0\n",
            "A=1, B=0 | AND: pred=0, true=N/A | OR: pred=1, true=N/A | NAND: pred=1, true=N/A | NOR: pred=0, true=N/A | XOR: pred=1\n",
            "A=0, B=-1 | AND: pred=0, true=N/A | OR: pred=0, true=N/A | NAND: pred=1, true=N/A | NOR: pred=1, true=N/A | XOR: pred=0\n",
            "A=0, B=1 | AND: pred=0, true=N/A | OR: pred=1, true=N/A | NAND: pred=1, true=N/A | NOR: pred=0, true=N/A | XOR: pred=1\n",
            "A=0, B=0 | AND: pred=0, true=N/A | OR: pred=0, true=N/A | NAND: pred=1, true=N/A | NOR: pred=1, true=N/A | XOR: pred=0\n",
            "A=0, B=3 | AND: pred=1, true=N/A | OR: pred=1, true=N/A | NAND: pred=0, true=N/A | NOR: pred=0, true=N/A | XOR: pred=0\n",
            "A=2, B=1 | AND: pred=1, true=N/A | OR: pred=1, true=N/A | NAND: pred=0, true=N/A | NOR: pred=0, true=N/A | XOR: pred=0\n",
            "A=1, B=1 | AND: pred=1, true=N/A | OR: pred=1, true=N/A | NAND: pred=0, true=N/A | NOR: pred=0, true=N/A | XOR: pred=0\n",
            "A=1, B=0 | AND: pred=0, true=N/A | OR: pred=1, true=N/A | NAND: pred=1, true=N/A | NOR: pred=0, true=N/A | XOR: pred=1\n",
            "A=1, B=1 | AND: pred=1, true=N/A | OR: pred=1, true=N/A | NAND: pred=0, true=N/A | NOR: pred=0, true=N/A | XOR: pred=0\n",
            "A=0, B=0 | AND: pred=0, true=N/A | OR: pred=0, true=N/A | NAND: pred=1, true=N/A | NOR: pred=1, true=N/A | XOR: pred=0\n",
            "A=1, B=-1 | AND: pred=0, true=N/A | OR: pred=0, true=N/A | NAND: pred=1, true=N/A | NOR: pred=1, true=N/A | XOR: pred=0\n",
            "A=1, B=0 | AND: pred=0, true=N/A | OR: pred=1, true=N/A | NAND: pred=1, true=N/A | NOR: pred=0, true=N/A | XOR: pred=1\n",
            "A=1, B=0 | AND: pred=0, true=N/A | OR: pred=1, true=N/A | NAND: pred=1, true=N/A | NOR: pred=0, true=N/A | XOR: pred=1\n",
            "A=1, B=1 | AND: pred=1, true=N/A | OR: pred=1, true=N/A | NAND: pred=0, true=N/A | NOR: pred=0, true=N/A | XOR: pred=0\n",
            "A=1, B=0 | AND: pred=0, true=N/A | OR: pred=1, true=N/A | NAND: pred=1, true=N/A | NOR: pred=0, true=N/A | XOR: pred=1\n",
            "A=1, B=-1 | AND: pred=0, true=N/A | OR: pred=0, true=N/A | NAND: pred=1, true=N/A | NOR: pred=1, true=N/A | XOR: pred=0\n",
            "A=0, B=1 | AND: pred=0, true=N/A | OR: pred=1, true=N/A | NAND: pred=1, true=N/A | NOR: pred=0, true=N/A | XOR: pred=1\n",
            "A=0, B=0 | AND: pred=0, true=N/A | OR: pred=0, true=N/A | NAND: pred=1, true=N/A | NOR: pred=1, true=N/A | XOR: pred=0\n",
            "A=1, B=0 | AND: pred=0, true=N/A | OR: pred=1, true=N/A | NAND: pred=1, true=N/A | NOR: pred=0, true=N/A | XOR: pred=1\n",
            "A=0, B=1 | AND: pred=0, true=N/A | OR: pred=1, true=N/A | NAND: pred=1, true=N/A | NOR: pred=0, true=N/A | XOR: pred=1\n",
            "A=1, B=1 | AND: pred=1, true=N/A | OR: pred=1, true=N/A | NAND: pred=0, true=N/A | NOR: pred=0, true=N/A | XOR: pred=0\n",
            "A=1, B=0 | AND: pred=0, true=N/A | OR: pred=1, true=N/A | NAND: pred=1, true=N/A | NOR: pred=0, true=N/A | XOR: pred=1\n",
            "A=1, B=1 | AND: pred=1, true=N/A | OR: pred=1, true=N/A | NAND: pred=0, true=N/A | NOR: pred=0, true=N/A | XOR: pred=0\n",
            "A=0, B=0 | AND: pred=0, true=N/A | OR: pred=0, true=N/A | NAND: pred=1, true=N/A | NOR: pred=1, true=N/A | XOR: pred=0\n",
            "A=1, B=-1 | AND: pred=0, true=N/A | OR: pred=0, true=N/A | NAND: pred=1, true=N/A | NOR: pred=1, true=N/A | XOR: pred=0\n",
            "A=1, B=0 | AND: pred=0, true=N/A | OR: pred=1, true=N/A | NAND: pred=1, true=N/A | NOR: pred=0, true=N/A | XOR: pred=1\n",
            "A=2, B=0 | AND: pred=1, true=N/A | OR: pred=1, true=N/A | NAND: pred=0, true=N/A | NOR: pred=0, true=N/A | XOR: pred=0\n",
            "A=0, B=0 | AND: pred=0, true=N/A | OR: pred=0, true=N/A | NAND: pred=1, true=N/A | NOR: pred=1, true=N/A | XOR: pred=0\n",
            "A=1, B=1 | AND: pred=1, true=N/A | OR: pred=1, true=N/A | NAND: pred=0, true=N/A | NOR: pred=0, true=N/A | XOR: pred=0\n",
            "A=1, B=0 | AND: pred=0, true=N/A | OR: pred=1, true=N/A | NAND: pred=1, true=N/A | NOR: pred=0, true=N/A | XOR: pred=1\n",
            "A=1, B=1 | AND: pred=1, true=N/A | OR: pred=1, true=N/A | NAND: pred=0, true=N/A | NOR: pred=0, true=N/A | XOR: pred=0\n",
            "A=0, B=1 | AND: pred=0, true=N/A | OR: pred=1, true=N/A | NAND: pred=1, true=N/A | NOR: pred=0, true=N/A | XOR: pred=1\n",
            "A=0, B=-1 | AND: pred=0, true=N/A | OR: pred=0, true=N/A | NAND: pred=1, true=N/A | NOR: pred=1, true=N/A | XOR: pred=0\n",
            "A=0, B=1 | AND: pred=0, true=N/A | OR: pred=1, true=N/A | NAND: pred=1, true=N/A | NOR: pred=0, true=N/A | XOR: pred=1\n",
            "A=0, B=0 | AND: pred=0, true=N/A | OR: pred=0, true=N/A | NAND: pred=1, true=N/A | NOR: pred=1, true=N/A | XOR: pred=0\n",
            "A=1, B=0 | AND: pred=0, true=N/A | OR: pred=1, true=N/A | NAND: pred=1, true=N/A | NOR: pred=0, true=N/A | XOR: pred=1\n",
            "A=0, B=1 | AND: pred=0, true=N/A | OR: pred=1, true=N/A | NAND: pred=1, true=N/A | NOR: pred=0, true=N/A | XOR: pred=1\n",
            "A=0, B=0 | AND: pred=0, true=N/A | OR: pred=0, true=N/A | NAND: pred=1, true=N/A | NOR: pred=1, true=N/A | XOR: pred=0\n",
            "A=0, B=2 | AND: pred=1, true=N/A | OR: pred=1, true=N/A | NAND: pred=0, true=N/A | NOR: pred=0, true=N/A | XOR: pred=0\n",
            "A=2, B=1 | AND: pred=1, true=N/A | OR: pred=1, true=N/A | NAND: pred=0, true=N/A | NOR: pred=0, true=N/A | XOR: pred=0\n",
            "A=1, B=1 | AND: pred=1, true=N/A | OR: pred=1, true=N/A | NAND: pred=0, true=N/A | NOR: pred=0, true=N/A | XOR: pred=0\n",
            "A=1, B=0 | AND: pred=0, true=N/A | OR: pred=1, true=N/A | NAND: pred=1, true=N/A | NOR: pred=0, true=N/A | XOR: pred=1\n",
            "A=1, B=1 | AND: pred=1, true=N/A | OR: pred=1, true=N/A | NAND: pred=0, true=N/A | NOR: pred=0, true=N/A | XOR: pred=0\n",
            "A=0, B=0 | AND: pred=0, true=N/A | OR: pred=0, true=N/A | NAND: pred=1, true=N/A | NOR: pred=1, true=N/A | XOR: pred=0\n",
            "A=1, B=0 | AND: pred=0, true=N/A | OR: pred=1, true=N/A | NAND: pred=1, true=N/A | NOR: pred=0, true=N/A | XOR: pred=1\n",
            "A=1, B=0 | AND: pred=0, true=N/A | OR: pred=1, true=N/A | NAND: pred=1, true=N/A | NOR: pred=0, true=N/A | XOR: pred=1\n",
            "A=3, B=0 | AND: pred=1, true=N/A | OR: pred=1, true=N/A | NAND: pred=0, true=N/A | NOR: pred=0, true=N/A | XOR: pred=0\n",
            "A=0, B=0 | AND: pred=0, true=N/A | OR: pred=0, true=N/A | NAND: pred=1, true=N/A | NOR: pred=1, true=N/A | XOR: pred=0\n",
            "A=1, B=0 | AND: pred=0, true=N/A | OR: pred=1, true=N/A | NAND: pred=1, true=N/A | NOR: pred=0, true=N/A | XOR: pred=1\n",
            "A=1, B=0 | AND: pred=0, true=N/A | OR: pred=1, true=N/A | NAND: pred=1, true=N/A | NOR: pred=0, true=N/A | XOR: pred=1\n",
            "A=3, B=0 | AND: pred=1, true=N/A | OR: pred=1, true=N/A | NAND: pred=0, true=N/A | NOR: pred=0, true=N/A | XOR: pred=0\n",
            "A=0, B=0 | AND: pred=0, true=N/A | OR: pred=0, true=N/A | NAND: pred=1, true=N/A | NOR: pred=1, true=N/A | XOR: pred=0\n",
            "A=1, B=1 | AND: pred=1, true=N/A | OR: pred=1, true=N/A | NAND: pred=0, true=N/A | NOR: pred=0, true=N/A | XOR: pred=0\n",
            "A=0, B=2 | AND: pred=1, true=N/A | OR: pred=1, true=N/A | NAND: pred=0, true=N/A | NOR: pred=0, true=N/A | XOR: pred=0\n",
            "A=1, B=1 | AND: pred=1, true=N/A | OR: pred=1, true=N/A | NAND: pred=0, true=N/A | NOR: pred=0, true=N/A | XOR: pred=0\n",
            "A=1, B=0 | AND: pred=0, true=N/A | OR: pred=1, true=N/A | NAND: pred=1, true=N/A | NOR: pred=0, true=N/A | XOR: pred=1\n",
            "A=1, B=0 | AND: pred=0, true=N/A | OR: pred=1, true=N/A | NAND: pred=1, true=N/A | NOR: pred=0, true=N/A | XOR: pred=1\n",
            "A=0, B=1 | AND: pred=0, true=N/A | OR: pred=1, true=N/A | NAND: pred=1, true=N/A | NOR: pred=0, true=N/A | XOR: pred=1\n",
            "A=1, B=0 | AND: pred=0, true=N/A | OR: pred=1, true=N/A | NAND: pred=1, true=N/A | NOR: pred=0, true=N/A | XOR: pred=1\n",
            "A=0, B=-1 | AND: pred=0, true=N/A | OR: pred=0, true=N/A | NAND: pred=1, true=N/A | NOR: pred=1, true=N/A | XOR: pred=0\n",
            "A=0, B=1 | AND: pred=0, true=N/A | OR: pred=1, true=N/A | NAND: pred=1, true=N/A | NOR: pred=0, true=N/A | XOR: pred=1\n",
            "A=0, B=0 | AND: pred=0, true=N/A | OR: pred=0, true=N/A | NAND: pred=1, true=N/A | NOR: pred=1, true=N/A | XOR: pred=0\n",
            "A=1, B=0 | AND: pred=0, true=N/A | OR: pred=1, true=N/A | NAND: pred=1, true=N/A | NOR: pred=0, true=N/A | XOR: pred=1\n",
            "A=1, B=0 | AND: pred=0, true=N/A | OR: pred=1, true=N/A | NAND: pred=1, true=N/A | NOR: pred=0, true=N/A | XOR: pred=1\n",
            "A=1, B=1 | AND: pred=1, true=N/A | OR: pred=1, true=N/A | NAND: pred=0, true=N/A | NOR: pred=0, true=N/A | XOR: pred=0\n",
            "A=1, B=0 | AND: pred=0, true=N/A | OR: pred=1, true=N/A | NAND: pred=1, true=N/A | NOR: pred=0, true=N/A | XOR: pred=1\n",
            "A=1, B=1 | AND: pred=1, true=N/A | OR: pred=1, true=N/A | NAND: pred=0, true=N/A | NOR: pred=0, true=N/A | XOR: pred=0\n",
            "A=0, B=0 | AND: pred=0, true=N/A | OR: pred=0, true=N/A | NAND: pred=1, true=N/A | NOR: pred=1, true=N/A | XOR: pred=0\n",
            "A=1, B=-1 | AND: pred=0, true=N/A | OR: pred=0, true=N/A | NAND: pred=1, true=N/A | NOR: pred=1, true=N/A | XOR: pred=0\n",
            "A=1, B=0 | AND: pred=0, true=N/A | OR: pred=1, true=N/A | NAND: pred=1, true=N/A | NOR: pred=0, true=N/A | XOR: pred=1\n",
            "A=1, B=1 | AND: pred=1, true=N/A | OR: pred=1, true=N/A | NAND: pred=0, true=N/A | NOR: pred=0, true=N/A | XOR: pred=0\n",
            "A=0, B=0 | AND: pred=0, true=N/A | OR: pred=0, true=N/A | NAND: pred=1, true=N/A | NOR: pred=1, true=N/A | XOR: pred=0\n",
            "A=1, B=0 | AND: pred=0, true=N/A | OR: pred=1, true=N/A | NAND: pred=1, true=N/A | NOR: pred=0, true=N/A | XOR: pred=1\n",
            "A=1, B=0 | AND: pred=0, true=N/A | OR: pred=1, true=N/A | NAND: pred=1, true=N/A | NOR: pred=0, true=N/A | XOR: pred=1\n",
            "A=2, B=0 | AND: pred=1, true=N/A | OR: pred=1, true=N/A | NAND: pred=0, true=N/A | NOR: pred=0, true=N/A | XOR: pred=0\n",
            "A=0, B=0 | AND: pred=0, true=N/A | OR: pred=0, true=N/A | NAND: pred=1, true=N/A | NOR: pred=1, true=N/A | XOR: pred=0\n",
            "A=1, B=-1 | AND: pred=0, true=N/A | OR: pred=0, true=N/A | NAND: pred=1, true=N/A | NOR: pred=1, true=N/A | XOR: pred=0\n",
            "A=1, B=0 | AND: pred=0, true=N/A | OR: pred=1, true=N/A | NAND: pred=1, true=N/A | NOR: pred=0, true=N/A | XOR: pred=1\n",
            "A=1, B=0 | AND: pred=0, true=N/A | OR: pred=1, true=N/A | NAND: pred=1, true=N/A | NOR: pred=0, true=N/A | XOR: pred=1\n",
            "A=0, B=0 | AND: pred=0, true=N/A | OR: pred=0, true=N/A | NAND: pred=1, true=N/A | NOR: pred=1, true=N/A | XOR: pred=0\n",
            "A=0, B=-1 | AND: pred=0, true=N/A | OR: pred=0, true=N/A | NAND: pred=1, true=N/A | NOR: pred=1, true=N/A | XOR: pred=0\n",
            "A=0, B=1 | AND: pred=0, true=N/A | OR: pred=1, true=N/A | NAND: pred=1, true=N/A | NOR: pred=0, true=N/A | XOR: pred=1\n",
            "A=0, B=0 | AND: pred=0, true=N/A | OR: pred=0, true=N/A | NAND: pred=1, true=N/A | NOR: pred=1, true=N/A | XOR: pred=0\n",
            "A=1, B=0 | AND: pred=0, true=N/A | OR: pred=1, true=N/A | NAND: pred=1, true=N/A | NOR: pred=0, true=N/A | XOR: pred=1\n",
            "A=-1, B=1 | AND: pred=0, true=N/A | OR: pred=0, true=N/A | NAND: pred=1, true=N/A | NOR: pred=1, true=N/A | XOR: pred=0\n",
            "A=1, B=1 | AND: pred=1, true=N/A | OR: pred=1, true=N/A | NAND: pred=0, true=N/A | NOR: pred=0, true=N/A | XOR: pred=0\n",
            "A=1, B=0 | AND: pred=0, true=N/A | OR: pred=1, true=N/A | NAND: pred=1, true=N/A | NOR: pred=0, true=N/A | XOR: pred=1\n",
            "A=1, B=1 | AND: pred=1, true=N/A | OR: pred=1, true=N/A | NAND: pred=0, true=N/A | NOR: pred=0, true=N/A | XOR: pred=0\n",
            "A=0, B=0 | AND: pred=0, true=N/A | OR: pred=0, true=N/A | NAND: pred=1, true=N/A | NOR: pred=1, true=N/A | XOR: pred=0\n",
            "A=1, B=-1 | AND: pred=0, true=N/A | OR: pred=0, true=N/A | NAND: pred=1, true=N/A | NOR: pred=1, true=N/A | XOR: pred=0\n",
            "A=1, B=0 | AND: pred=0, true=N/A | OR: pred=1, true=N/A | NAND: pred=1, true=N/A | NOR: pred=0, true=N/A | XOR: pred=1\n",
            "A=1, B=0 | AND: pred=0, true=N/A | OR: pred=1, true=N/A | NAND: pred=1, true=N/A | NOR: pred=0, true=N/A | XOR: pred=1\n",
            "A=0, B=0 | AND: pred=0, true=N/A | OR: pred=0, true=N/A | NAND: pred=1, true=N/A | NOR: pred=1, true=N/A | XOR: pred=0\n",
            "A=1, B=1 | AND: pred=1, true=N/A | OR: pred=1, true=N/A | NAND: pred=0, true=N/A | NOR: pred=0, true=N/A | XOR: pred=0\n",
            "A=5, B=2 | AND: pred=1, true=N/A | OR: pred=1, true=N/A | NAND: pred=0, true=N/A | NOR: pred=0, true=N/A | XOR: pred=0\n",
            "A=1, B=1 | AND: pred=1, true=N/A | OR: pred=1, true=N/A | NAND: pred=0, true=N/A | NOR: pred=0, true=N/A | XOR: pred=0\n",
            "A=1, B=0 | AND: pred=0, true=N/A | OR: pred=1, true=N/A | NAND: pred=1, true=N/A | NOR: pred=0, true=N/A | XOR: pred=1\n",
            "A=0, B=-1 | AND: pred=0, true=N/A | OR: pred=0, true=N/A | NAND: pred=1, true=N/A | NOR: pred=1, true=N/A | XOR: pred=0\n",
            "A=0, B=1 | AND: pred=0, true=N/A | OR: pred=1, true=N/A | NAND: pred=1, true=N/A | NOR: pred=0, true=N/A | XOR: pred=1\n",
            "A=1, B=-1 | AND: pred=0, true=N/A | OR: pred=0, true=N/A | NAND: pred=1, true=N/A | NOR: pred=1, true=N/A | XOR: pred=0\n",
            "A=0, B=1 | AND: pred=0, true=N/A | OR: pred=1, true=N/A | NAND: pred=1, true=N/A | NOR: pred=0, true=N/A | XOR: pred=1\n",
            "A=1, B=0 | AND: pred=0, true=N/A | OR: pred=1, true=N/A | NAND: pred=1, true=N/A | NOR: pred=0, true=N/A | XOR: pred=1\n",
            "A=0, B=-1 | AND: pred=0, true=N/A | OR: pred=0, true=N/A | NAND: pred=1, true=N/A | NOR: pred=1, true=N/A | XOR: pred=0\n",
            "A=0, B=1 | AND: pred=0, true=N/A | OR: pred=1, true=N/A | NAND: pred=1, true=N/A | NOR: pred=0, true=N/A | XOR: pred=1\n",
            "A=0, B=0 | AND: pred=0, true=N/A | OR: pred=0, true=N/A | NAND: pred=1, true=N/A | NOR: pred=1, true=N/A | XOR: pred=0\n",
            "A=1, B=0 | AND: pred=0, true=N/A | OR: pred=1, true=N/A | NAND: pred=1, true=N/A | NOR: pred=0, true=N/A | XOR: pred=1\n",
            "A=1, B=0 | AND: pred=0, true=N/A | OR: pred=1, true=N/A | NAND: pred=1, true=N/A | NOR: pred=0, true=N/A | XOR: pred=1\n",
            "A=1, B=1 | AND: pred=1, true=N/A | OR: pred=1, true=N/A | NAND: pred=0, true=N/A | NOR: pred=0, true=N/A | XOR: pred=0\n",
            "A=1, B=0 | AND: pred=0, true=N/A | OR: pred=1, true=N/A | NAND: pred=1, true=N/A | NOR: pred=0, true=N/A | XOR: pred=1\n",
            "A=1, B=1 | AND: pred=1, true=N/A | OR: pred=1, true=N/A | NAND: pred=0, true=N/A | NOR: pred=0, true=N/A | XOR: pred=0\n",
            "A=0, B=0 | AND: pred=0, true=N/A | OR: pred=0, true=N/A | NAND: pred=1, true=N/A | NOR: pred=1, true=N/A | XOR: pred=0\n",
            "A=1, B=0 | AND: pred=0, true=N/A | OR: pred=1, true=N/A | NAND: pred=1, true=N/A | NOR: pred=0, true=N/A | XOR: pred=1\n",
            "A=1, B=0 | AND: pred=0, true=N/A | OR: pred=1, true=N/A | NAND: pred=1, true=N/A | NOR: pred=0, true=N/A | XOR: pred=1\n",
            "A=0, B=1 | AND: pred=0, true=N/A | OR: pred=1, true=N/A | NAND: pred=1, true=N/A | NOR: pred=0, true=N/A | XOR: pred=1\n",
            "A=1, B=0 | AND: pred=0, true=N/A | OR: pred=1, true=N/A | NAND: pred=1, true=N/A | NOR: pred=0, true=N/A | XOR: pred=1\n",
            "A=0, B=-1 | AND: pred=0, true=N/A | OR: pred=0, true=N/A | NAND: pred=1, true=N/A | NOR: pred=1, true=N/A | XOR: pred=0\n",
            "A=0, B=1 | AND: pred=0, true=N/A | OR: pred=1, true=N/A | NAND: pred=1, true=N/A | NOR: pred=0, true=N/A | XOR: pred=1\n",
            "A=0, B=0 | AND: pred=0, true=N/A | OR: pred=0, true=N/A | NAND: pred=1, true=N/A | NOR: pred=1, true=N/A | XOR: pred=0\n",
            "A=1, B=0 | AND: pred=0, true=N/A | OR: pred=1, true=N/A | NAND: pred=1, true=N/A | NOR: pred=0, true=N/A | XOR: pred=1\n",
            "A=-1, B=1 | AND: pred=0, true=N/A | OR: pred=0, true=N/A | NAND: pred=1, true=N/A | NOR: pred=1, true=N/A | XOR: pred=0\n",
            "A=1, B=1 | AND: pred=1, true=N/A | OR: pred=1, true=N/A | NAND: pred=0, true=N/A | NOR: pred=0, true=N/A | XOR: pred=0\n",
            "A=1, B=0 | AND: pred=0, true=N/A | OR: pred=1, true=N/A | NAND: pred=1, true=N/A | NOR: pred=0, true=N/A | XOR: pred=1\n",
            "A=1, B=1 | AND: pred=1, true=N/A | OR: pred=1, true=N/A | NAND: pred=0, true=N/A | NOR: pred=0, true=N/A | XOR: pred=0\n",
            "A=0, B=0 | AND: pred=0, true=N/A | OR: pred=0, true=N/A | NAND: pred=1, true=N/A | NOR: pred=1, true=N/A | XOR: pred=0\n",
            "A=0, B=-1 | AND: pred=0, true=N/A | OR: pred=0, true=N/A | NAND: pred=1, true=N/A | NOR: pred=1, true=N/A | XOR: pred=0\n",
            "A=1, B=0 | AND: pred=0, true=N/A | OR: pred=1, true=N/A | NAND: pred=1, true=N/A | NOR: pred=0, true=N/A | XOR: pred=1\n",
            "A=0, B=-1 | AND: pred=0, true=N/A | OR: pred=0, true=N/A | NAND: pred=1, true=N/A | NOR: pred=1, true=N/A | XOR: pred=0\n",
            "A=0, B=1 | AND: pred=0, true=N/A | OR: pred=1, true=N/A | NAND: pred=1, true=N/A | NOR: pred=0, true=N/A | XOR: pred=1\n",
            "A=1, B=0 | AND: pred=0, true=N/A | OR: pred=1, true=N/A | NAND: pred=1, true=N/A | NOR: pred=0, true=N/A | XOR: pred=1\n",
            "A=0, B=1 | AND: pred=0, true=N/A | OR: pred=1, true=N/A | NAND: pred=1, true=N/A | NOR: pred=0, true=N/A | XOR: pred=1\n",
            "A=1, B=0 | AND: pred=0, true=N/A | OR: pred=1, true=N/A | NAND: pred=1, true=N/A | NOR: pred=0, true=N/A | XOR: pred=1\n",
            "A=0, B=-1 | AND: pred=0, true=N/A | OR: pred=0, true=N/A | NAND: pred=1, true=N/A | NOR: pred=1, true=N/A | XOR: pred=0\n",
            "A=0, B=1 | AND: pred=0, true=N/A | OR: pred=1, true=N/A | NAND: pred=1, true=N/A | NOR: pred=0, true=N/A | XOR: pred=1\n",
            "A=0, B=0 | AND: pred=0, true=N/A | OR: pred=0, true=N/A | NAND: pred=1, true=N/A | NOR: pred=1, true=N/A | XOR: pred=0\n",
            "A=1, B=0 | AND: pred=0, true=N/A | OR: pred=1, true=N/A | NAND: pred=1, true=N/A | NOR: pred=0, true=N/A | XOR: pred=1\n",
            "A=1, B=0 | AND: pred=0, true=N/A | OR: pred=1, true=N/A | NAND: pred=1, true=N/A | NOR: pred=0, true=N/A | XOR: pred=1\n",
            "A=1, B=1 | AND: pred=1, true=N/A | OR: pred=1, true=N/A | NAND: pred=0, true=N/A | NOR: pred=0, true=N/A | XOR: pred=0\n",
            "A=1, B=0 | AND: pred=0, true=N/A | OR: pred=1, true=N/A | NAND: pred=1, true=N/A | NOR: pred=0, true=N/A | XOR: pred=1\n",
            "A=1, B=1 | AND: pred=1, true=N/A | OR: pred=1, true=N/A | NAND: pred=0, true=N/A | NOR: pred=0, true=N/A | XOR: pred=0\n",
            "A=0, B=0 | AND: pred=0, true=N/A | OR: pred=0, true=N/A | NAND: pred=1, true=N/A | NOR: pred=1, true=N/A | XOR: pred=0\n",
            "A=1, B=0 | AND: pred=0, true=N/A | OR: pred=1, true=N/A | NAND: pred=1, true=N/A | NOR: pred=0, true=N/A | XOR: pred=1\n",
            "A=1, B=0 | AND: pred=0, true=N/A | OR: pred=1, true=N/A | NAND: pred=1, true=N/A | NOR: pred=0, true=N/A | XOR: pred=1\n",
            "A=0, B=1 | AND: pred=0, true=N/A | OR: pred=1, true=N/A | NAND: pred=1, true=N/A | NOR: pred=0, true=N/A | XOR: pred=1\n",
            "A=1, B=0 | AND: pred=0, true=N/A | OR: pred=1, true=N/A | NAND: pred=1, true=N/A | NOR: pred=0, true=N/A | XOR: pred=1\n",
            "A=2, B=-1 | AND: pred=0, true=N/A | OR: pred=1, true=N/A | NAND: pred=1, true=N/A | NOR: pred=0, true=N/A | XOR: pred=1\n",
            "A=0, B=1 | AND: pred=0, true=N/A | OR: pred=1, true=N/A | NAND: pred=1, true=N/A | NOR: pred=0, true=N/A | XOR: pred=1\n"
          ]
        }
      ]
    },
    {
      "cell_type": "code",
      "source": [],
      "metadata": {
        "id": "vw03wfAgHFJ3"
      },
      "execution_count": null,
      "outputs": []
    }
  ]
}